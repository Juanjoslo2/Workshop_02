{
 "cells": [
  {
   "cell_type": "markdown",
   "id": "df998812",
   "metadata": {},
   "source": [
    "# WORKSHOP 002 - NOTEBOOK #2"
   ]
  },
  {
   "cell_type": "markdown",
   "id": "7c4077d0",
   "metadata": {},
   "source": [
    "## Exploratory Data Analysis (EDA) on the API "
   ]
  },
  {
   "cell_type": "code",
   "execution_count": null,
   "id": "bd899b14",
   "metadata": {},
   "outputs": [],
   "source": [
    "#pip install -r ../requirements.txt"
   ]
  },
  {
   "cell_type": "markdown",
   "id": "9aa04338",
   "metadata": {},
   "source": [
    "### environment"
   ]
  },
  {
   "cell_type": "code",
   "execution_count": null,
   "id": "60d4417c",
   "metadata": {},
   "outputs": [],
   "source": [
    "import os\n",
    "import sys\n",
    "\n",
    "\n",
    "try:\n",
    "    os.chdir(\"../\")  \n",
    "    print(\"Directorio de trabajo cambiado a:\", os.getcwd())\n",
    "except FileNotFoundError:\n",
    "    print(\"No se pudo cambiar el directorio, verifica la ruta.\")\n",
    "\n",
    "project_root = os.path.abspath(os.path.join(os.getcwd()))\n",
    "if project_root not in sys.path:\n",
    "    sys.path.append(project_root)\n",
    "    \n",
    "print(\"sys.path actualizado. Directorio base:\", project_root)\n"
   ]
  },
  {
   "cell_type": "code",
   "execution_count": null,
   "id": "a91127a0",
   "metadata": {},
   "outputs": [],
   "source": [
    "import pandas as pd\n",
    "import matplotlib.pyplot as plt\n",
    "import seaborn as sns"
   ]
  },
  {
   "cell_type": "markdown",
   "id": "3f63c2bc",
   "metadata": {},
   "source": [
    "### info\n"
   ]
  },
  {
   "cell_type": "code",
   "execution_count": null,
   "id": "a7c6f758",
   "metadata": {},
   "outputs": [],
   "source": [
    "df = pd.read_csv('data/musicbrainz_artist.csv')\n",
    "\n",
    "df.head(100)"
   ]
  },
  {
   "cell_type": "code",
   "execution_count": null,
   "id": "8deab69f",
   "metadata": {},
   "outputs": [],
   "source": [
    "df.info()"
   ]
  },
  {
   "cell_type": "code",
   "execution_count": null,
   "id": "35dea868",
   "metadata": {},
   "outputs": [],
   "source": [
    "df.isnull().sum()"
   ]
  },
  {
   "cell_type": "code",
   "execution_count": null,
   "id": "91d91718",
   "metadata": {},
   "outputs": [],
   "source": [
    "df['country'].value_counts()"
   ]
  },
  {
   "cell_type": "code",
   "execution_count": null,
   "id": "fecfbe53",
   "metadata": {},
   "outputs": [],
   "source": []
  }
 ],
 "metadata": {
  "kernelspec": {
   "display_name": "venv",
   "language": "python",
   "name": "python3"
  },
  "language_info": {
   "codemirror_mode": {
    "name": "ipython",
    "version": 3
   },
   "file_extension": ".py",
   "mimetype": "text/x-python",
   "name": "python",
   "nbconvert_exporter": "python",
   "pygments_lexer": "ipython3",
   "version": "3.12.3"
  }
 },
 "nbformat": 4,
 "nbformat_minor": 5
}
